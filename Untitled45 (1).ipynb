{
 "cells": [
  {
   "cell_type": "code",
   "execution_count": 1,
   "id": "4cfa228b-243e-40b9-83f7-6cfc220950c7",
   "metadata": {},
   "outputs": [],
   "source": [
    "import os \n",
    "os.chdir(r'E:\\Python projects\\Datasets')"
   ]
  },
  {
   "cell_type": "code",
   "execution_count": 3,
   "id": "34138cd4-ee1f-4b63-8bb6-91e6aa706160",
   "metadata": {},
   "outputs": [
    {
     "name": "stdout",
     "output_type": "stream",
     "text": [
      "                                           Poster_Link  \\\n",
      "0    https://m.media-amazon.com/images/M/MV5BMDFkYT...   \n",
      "1    https://m.media-amazon.com/images/M/MV5BM2MyNj...   \n",
      "2    https://m.media-amazon.com/images/M/MV5BMTMxNT...   \n",
      "3    https://m.media-amazon.com/images/M/MV5BMWMwMG...   \n",
      "4    https://m.media-amazon.com/images/M/MV5BMWU4N2...   \n",
      "..                                                 ...   \n",
      "995  https://m.media-amazon.com/images/M/MV5BNGEwMT...   \n",
      "996  https://m.media-amazon.com/images/M/MV5BODk3Yj...   \n",
      "997  https://m.media-amazon.com/images/M/MV5BM2U3Yz...   \n",
      "998  https://m.media-amazon.com/images/M/MV5BZTBmMj...   \n",
      "999  https://m.media-amazon.com/images/M/MV5BMTY5OD...   \n",
      "\n",
      "                 Series_Title Released_Year Certificate  Runtime  \\\n",
      "0    The Shawshank Redemption          1994           A  142 min   \n",
      "1               The Godfather          1972           A  175 min   \n",
      "2             The Dark Knight          2008          UA  152 min   \n",
      "3      The Godfather: Part II          1974           A  202 min   \n",
      "4                12 Angry Men          1957           U   96 min   \n",
      "..                        ...           ...         ...      ...   \n",
      "995    Breakfast at Tiffany's          1961           A  115 min   \n",
      "996                     Giant          1956           G  201 min   \n",
      "997     From Here to Eternity          1953      Passed  118 min   \n",
      "998                  Lifeboat          1944         NaN   97 min   \n",
      "999              The 39 Steps          1935         NaN   86 min   \n",
      "\n",
      "                        Genre  IMDB_Rating  \\\n",
      "0                       Drama          9.3   \n",
      "1                Crime, Drama          9.2   \n",
      "2        Action, Crime, Drama          9.0   \n",
      "3                Crime, Drama          9.0   \n",
      "4                Crime, Drama          9.0   \n",
      "..                        ...          ...   \n",
      "995    Comedy, Drama, Romance          7.6   \n",
      "996            Drama, Western          7.6   \n",
      "997       Drama, Romance, War          7.6   \n",
      "998                Drama, War          7.6   \n",
      "999  Crime, Mystery, Thriller          7.6   \n",
      "\n",
      "                                              Overview  Meta_score  \\\n",
      "0    Two imprisoned men bond over a number of years...        80.0   \n",
      "1    An organized crime dynasty's aging patriarch t...       100.0   \n",
      "2    When the menace known as the Joker wreaks havo...        84.0   \n",
      "3    The early life and career of Vito Corleone in ...        90.0   \n",
      "4    A jury holdout attempts to prevent a miscarria...        96.0   \n",
      "..                                                 ...         ...   \n",
      "995  A young New York socialite becomes interested ...        76.0   \n",
      "996  Sprawling epic covering the life of a Texas ca...        84.0   \n",
      "997  In Hawaii in 1941, a private is cruelly punish...        85.0   \n",
      "998  Several survivors of a torpedoed merchant ship...        78.0   \n",
      "999  A man in London tries to help a counter-espion...        93.0   \n",
      "\n",
      "                 Director              Star1              Star2  \\\n",
      "0          Frank Darabont        Tim Robbins     Morgan Freeman   \n",
      "1    Francis Ford Coppola      Marlon Brando          Al Pacino   \n",
      "2       Christopher Nolan     Christian Bale       Heath Ledger   \n",
      "3    Francis Ford Coppola          Al Pacino     Robert De Niro   \n",
      "4            Sidney Lumet        Henry Fonda        Lee J. Cobb   \n",
      "..                    ...                ...                ...   \n",
      "995         Blake Edwards     Audrey Hepburn     George Peppard   \n",
      "996        George Stevens   Elizabeth Taylor        Rock Hudson   \n",
      "997        Fred Zinnemann     Burt Lancaster   Montgomery Clift   \n",
      "998      Alfred Hitchcock  Tallulah Bankhead        John Hodiak   \n",
      "999      Alfred Hitchcock       Robert Donat  Madeleine Carroll   \n",
      "\n",
      "              Star3           Star4  No_of_Votes        Gross  \n",
      "0        Bob Gunton  William Sadler      2343110   28,341,469  \n",
      "1        James Caan    Diane Keaton      1620367  134,966,411  \n",
      "2     Aaron Eckhart   Michael Caine      2303232  534,858,444  \n",
      "3     Robert Duvall    Diane Keaton      1129952   57,300,000  \n",
      "4     Martin Balsam    John Fiedler       689845    4,360,000  \n",
      "..              ...             ...          ...          ...  \n",
      "995   Patricia Neal     Buddy Ebsen       166544          NaN  \n",
      "996      James Dean   Carroll Baker        34075          NaN  \n",
      "997    Deborah Kerr      Donna Reed        43374   30,500,000  \n",
      "998   Walter Slezak  William Bendix        26471          NaN  \n",
      "999  Lucie Mannheim  Godfrey Tearle        51853          NaN  \n",
      "\n",
      "[1000 rows x 16 columns]\n"
     ]
    }
   ],
   "source": [
    "import pandas as pd\n",
    "df=pd.read_csv(r'E:\\Python projects\\Datasets\\imdb_top_1000.csv')\n",
    "print(df)"
   ]
  },
  {
   "cell_type": "code",
   "execution_count": 5,
   "id": "c67514e8-c374-447a-b06e-dc73705d79c3",
   "metadata": {},
   "outputs": [
    {
     "name": "stdout",
     "output_type": "stream",
     "text": [
      "<class 'pandas.core.frame.DataFrame'>\n",
      "RangeIndex: 1000 entries, 0 to 999\n",
      "Data columns (total 16 columns):\n",
      " #   Column         Non-Null Count  Dtype  \n",
      "---  ------         --------------  -----  \n",
      " 0   Poster_Link    1000 non-null   object \n",
      " 1   Series_Title   1000 non-null   object \n",
      " 2   Released_Year  1000 non-null   object \n",
      " 3   Certificate    899 non-null    object \n",
      " 4   Runtime        1000 non-null   object \n",
      " 5   Genre          1000 non-null   object \n",
      " 6   IMDB_Rating    1000 non-null   float64\n",
      " 7   Overview       1000 non-null   object \n",
      " 8   Meta_score     843 non-null    float64\n",
      " 9   Director       1000 non-null   object \n",
      " 10  Star1          1000 non-null   object \n",
      " 11  Star2          1000 non-null   object \n",
      " 12  Star3          1000 non-null   object \n",
      " 13  Star4          1000 non-null   object \n",
      " 14  No_of_Votes    1000 non-null   int64  \n",
      " 15  Gross          831 non-null    object \n",
      "dtypes: float64(2), int64(1), object(13)\n",
      "memory usage: 125.1+ KB\n"
     ]
    },
    {
     "data": {
      "text/html": [
       "<div>\n",
       "<style scoped>\n",
       "    .dataframe tbody tr th:only-of-type {\n",
       "        vertical-align: middle;\n",
       "    }\n",
       "\n",
       "    .dataframe tbody tr th {\n",
       "        vertical-align: top;\n",
       "    }\n",
       "\n",
       "    .dataframe thead th {\n",
       "        text-align: right;\n",
       "    }\n",
       "</style>\n",
       "<table border=\"1\" class=\"dataframe\">\n",
       "  <thead>\n",
       "    <tr style=\"text-align: right;\">\n",
       "      <th></th>\n",
       "      <th>IMDB_Rating</th>\n",
       "      <th>Meta_score</th>\n",
       "      <th>No_of_Votes</th>\n",
       "    </tr>\n",
       "  </thead>\n",
       "  <tbody>\n",
       "    <tr>\n",
       "      <th>count</th>\n",
       "      <td>1000.000000</td>\n",
       "      <td>843.000000</td>\n",
       "      <td>1.000000e+03</td>\n",
       "    </tr>\n",
       "    <tr>\n",
       "      <th>mean</th>\n",
       "      <td>7.949300</td>\n",
       "      <td>77.971530</td>\n",
       "      <td>2.736929e+05</td>\n",
       "    </tr>\n",
       "    <tr>\n",
       "      <th>std</th>\n",
       "      <td>0.275491</td>\n",
       "      <td>12.376099</td>\n",
       "      <td>3.273727e+05</td>\n",
       "    </tr>\n",
       "    <tr>\n",
       "      <th>min</th>\n",
       "      <td>7.600000</td>\n",
       "      <td>28.000000</td>\n",
       "      <td>2.508800e+04</td>\n",
       "    </tr>\n",
       "    <tr>\n",
       "      <th>25%</th>\n",
       "      <td>7.700000</td>\n",
       "      <td>70.000000</td>\n",
       "      <td>5.552625e+04</td>\n",
       "    </tr>\n",
       "    <tr>\n",
       "      <th>50%</th>\n",
       "      <td>7.900000</td>\n",
       "      <td>79.000000</td>\n",
       "      <td>1.385485e+05</td>\n",
       "    </tr>\n",
       "    <tr>\n",
       "      <th>75%</th>\n",
       "      <td>8.100000</td>\n",
       "      <td>87.000000</td>\n",
       "      <td>3.741612e+05</td>\n",
       "    </tr>\n",
       "    <tr>\n",
       "      <th>max</th>\n",
       "      <td>9.300000</td>\n",
       "      <td>100.000000</td>\n",
       "      <td>2.343110e+06</td>\n",
       "    </tr>\n",
       "  </tbody>\n",
       "</table>\n",
       "</div>"
      ],
      "text/plain": [
       "       IMDB_Rating  Meta_score   No_of_Votes\n",
       "count  1000.000000  843.000000  1.000000e+03\n",
       "mean      7.949300   77.971530  2.736929e+05\n",
       "std       0.275491   12.376099  3.273727e+05\n",
       "min       7.600000   28.000000  2.508800e+04\n",
       "25%       7.700000   70.000000  5.552625e+04\n",
       "50%       7.900000   79.000000  1.385485e+05\n",
       "75%       8.100000   87.000000  3.741612e+05\n",
       "max       9.300000  100.000000  2.343110e+06"
      ]
     },
     "execution_count": 5,
     "metadata": {},
     "output_type": "execute_result"
    }
   ],
   "source": [
    "df.head()\n",
    "df.info()\n",
    "df.describe()"
   ]
  },
  {
   "cell_type": "code",
   "execution_count": 17,
   "id": "f48a867b-7029-4a1a-b746-fb013f831f39",
   "metadata": {},
   "outputs": [
    {
     "name": "stdout",
     "output_type": "stream",
     "text": [
      "                                         Poster_Link  \\\n",
      "0  https://m.media-amazon.com/images/M/MV5BMDFkYT...   \n",
      "\n",
      "               Series_Title Released_Year Certificate  Runtime  Genre  \\\n",
      "0  The Shawshank Redemption          1994           A      142  Drama   \n",
      "\n",
      "   IMDB_Rating                                           Overview  Meta_score  \\\n",
      "0          9.3  Two imprisoned men bond over a number of years...        80.0   \n",
      "\n",
      "         Director        Star1           Star2       Star3           Star4  \\\n",
      "0  Frank Darabont  Tim Robbins  Morgan Freeman  Bob Gunton  William Sadler   \n",
      "\n",
      "   No_of_Votes       Gross  \n",
      "0      2343110  28,341,469  \n"
     ]
    }
   ],
   "source": [
    "#finding highest rated movie \n",
    "highest_rated_movie = df.sort_values(by='IMDB_Rating', ascending=False).head(1)\n",
    "print(highest_rated_movie)"
   ]
  },
  {
   "cell_type": "code",
   "execution_count": 9,
   "id": "04d94ad3-ba63-498c-affe-e763fb4930e3",
   "metadata": {},
   "outputs": [
    {
     "data": {
      "text/plain": [
       "Released_Year\n",
       "2014    32\n",
       "2004    31\n",
       "2009    29\n",
       "2013    28\n",
       "2016    28\n",
       "        ..\n",
       "1926     1\n",
       "1936     1\n",
       "1924     1\n",
       "1921     1\n",
       "PG       1\n",
       "Name: count, Length: 100, dtype: int64"
      ]
     },
     "execution_count": 9,
     "metadata": {},
     "output_type": "execute_result"
    }
   ],
   "source": [
    "#How Many Movies Released each year \n",
    "df['Released_Year'].value_counts( )\n"
   ]
  },
  {
   "cell_type": "code",
   "execution_count": 11,
   "id": "18a2b4f6-0c04-49ad-a5e5-ea3bb28abebc",
   "metadata": {},
   "outputs": [
    {
     "name": "stdout",
     "output_type": "stream",
     "text": [
      "                                           Poster_Link        Series_Title  \\\n",
      "140  https://m.media-amazon.com/images/M/MV5BMTc5Nj...  Gangs of Wasseypur   \n",
      "\n",
      "    Released_Year Certificate  Runtime                  Genre  IMDB_Rating  \\\n",
      "140          2012           A      321  Action, Comedy, Crime          8.2   \n",
      "\n",
      "                                              Overview  Meta_score  \\\n",
      "140  A clash between Sultan and Shahid Khan leads t...        89.0   \n",
      "\n",
      "           Director           Star1         Star2                Star3  \\\n",
      "140  Anurag Kashyap  Manoj Bajpayee  Richa Chadha  Nawazuddin Siddiqui   \n",
      "\n",
      "                Star4  No_of_Votes Gross  \n",
      "140  Tigmanshu Dhulia        82365   NaN  \n"
     ]
    }
   ],
   "source": [
    "#movies with the longest runtime\n",
    "df['Runtime'] = df['Runtime'].str.replace(' min', '')\n",
    "df['Runtime'] = pd.to_numeric(df['Runtime'])\n",
    "longest_movie = df.nlargest(1, 'Runtime')\n",
    "print(longest_movie)"
   ]
  },
  {
   "cell_type": "code",
   "execution_count": null,
   "id": "d44d2cb7-2c9f-47cc-a89f-7a22537345cc",
   "metadata": {},
   "outputs": [],
   "source": []
  }
 ],
 "metadata": {
  "kernelspec": {
   "display_name": "Python [conda env:base] *",
   "language": "python",
   "name": "conda-base-py"
  },
  "language_info": {
   "codemirror_mode": {
    "name": "ipython",
    "version": 3
   },
   "file_extension": ".py",
   "mimetype": "text/x-python",
   "name": "python",
   "nbconvert_exporter": "python",
   "pygments_lexer": "ipython3",
   "version": "3.12.7"
  }
 },
 "nbformat": 4,
 "nbformat_minor": 5
}
